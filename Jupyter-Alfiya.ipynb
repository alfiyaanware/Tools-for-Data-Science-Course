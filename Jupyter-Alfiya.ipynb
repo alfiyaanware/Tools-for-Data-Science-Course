{
    "cells": [
        {
            "cell_type": "markdown",
            "metadata": {
                "collapsed": true
            },
            "source": [
                "# My Jupyter Notebook on IBM Watson Studio"
            ]
        },
        {
            "cell_type": "markdown",
            "metadata": {},
            "source": [
                "#### Alfiya Anware\n",
                "Data Science"
            ]
        },
        {
            "cell_type": "markdown",
            "metadata": {},
            "source": [
                "_I am interested in data science because data give us the insights to find hidden trends to shape the world into a better place._"
            ]
        },
        {
            "cell_type": "markdown",
            "metadata": {},
            "source": [
                "### The following code prints Hello, World!"
            ]
        },
        {
            "cell_type": "code",
            "execution_count": null,
            "metadata": {},
            "outputs": [
                {
                    "data": {
                        "text/plain": [
                            "True"
                        ]
                    },
                    "execution_count": 7,
                    "metadata": {},
                    "output_type": "execute_result"
                }
            ],
            "source": [
                "print(\"Hello, World!\")"
            ]
        },
        {
            "cell_type": "markdown",
            "metadata": {},
            "source": [
                "***"
            ]
        },
        {
            "cell_type": "markdown",
            "metadata": {},
            "source": [
                "- one\n",
                "- two\n",
                "- three\n",
                "- one\n",
                "- two\n",
                "- three"
            ]
        },
        {
            "cell_type": "markdown",
            "metadata": {},
            "source": [
                ">_wwodddddddddddddddddddaseidh fucgue ggrsuehursehiurhe  eruihgieruh ieseriu gerh riue hiurgiuhr iurhiurhgiurehguir gu iu iurui riguihriuh reiuhiuh iuer hiur hgiur giurgiur iu hui rgiuhreiu heiuhh  eri u heiuh rh r i rej  gj j  i greg hrui hre hiuhu thruie jb iu eur heriuhgoi hr thrihgeroihg oid gkjh ri jrgh krj hirghf ghg kjhfdutu hgi ghitu hit ddddddaseidh fucgue ggrsuehursehiurhe  eruihgieruh ieseriu gerh riue hiurgiuhr iurhiurhgiurehguir gu iu iurui riguihriuh reiuhiuh iuer hiur hgiur giurgiur iu hui rgiuhreiu heiuhh  eri u heiuh rh r i rej  gj j  i greg hrui hre hiuhu thruie jb iu eur heriuhgoi hr thrihgeroihg oid gkjh ri jrgh krj hirghf ghg kjhfdutu hgi ghitu hit._ \n",
                "– Alfiyaaa, smarty pants"
            ]
        },
        {
            "cell_type": "markdown",
            "metadata": {},
            "source": [
                "|**Markdown**|**nice**|**wowie**|\n",
                "|------|------|------|\n",
                "|*ooo*|dam|**shawty**|\n",
                "|1|2|3|"
            ]
        }
    ],
    "metadata": {
        "kernelspec": {
            "display_name": "Python 3.10.2 64-bit",
            "language": "python",
            "name": "python3"
        },
        "language_info": {
            "codemirror_mode": {
                "name": "ipython",
                "version": 3
            },
            "file_extension": ".py",
            "mimetype": "text/x-python",
            "name": "python",
            "nbconvert_exporter": "python",
            "pygments_lexer": "ipython3",
            "version": "3.10.2"
        },
        "vscode": {
            "interpreter": {
                "hash": "26de051ba29f2982a8de78e945f0abaf191376122a1563185a90213a26c5da77"
            }
        }
    },
    "nbformat": 4,
    "nbformat_minor": 1
}
